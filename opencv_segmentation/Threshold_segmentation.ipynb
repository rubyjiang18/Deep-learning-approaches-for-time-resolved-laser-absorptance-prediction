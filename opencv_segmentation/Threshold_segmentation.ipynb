{
 "cells": [
  {
   "cell_type": "code",
   "execution_count": null,
   "metadata": {},
   "outputs": [],
   "source": [
    "import cv2 as cv    \n",
    "import numpy as np\n",
    "#import matplotlib\n",
    "import matplotlib.pyplot as plt\n",
    "import pandas as pd\n",
    "import os\n",
    "from skimage import io, img_as_float, img_as_ubyte, exposure\n",
    "from os.path import isfile, join\n",
    "import os.path, sys\n",
    "\n",
    "import glob\n",
    "\n",
    "\n",
    "import re"
   ]
  },
  {
   "cell_type": "code",
   "execution_count": null,
   "metadata": {},
   "outputs": [],
   "source": [
    "from ipywidgets import interact\n",
    "\n",
    "%matplotlib notebook\n",
    "\n",
    "def atoi(text):\n",
    "    return int(text) if text.isdigit() else text\n",
    "\n",
    "def natural_keys(text):\n",
    "    return [ atoi(c) for c in re.split(r'(\\d+)', text) ]\n",
    "\n",
    "def autoscale(array, percentile):\n",
    "    value = np.percentile(np.ndarray.flatten(array), percentile)\n",
    "    return value"
   ]
  },
  {
   "cell_type": "markdown",
   "metadata": {},
   "source": [
    "## Step 1: Rename\n",
    "This step is not essential, I just want to rename it numerically to make the name shorter. "
   ]
  },
  {
   "cell_type": "code",
   "execution_count": null,
   "metadata": {},
   "outputs": [],
   "source": [
    "path='/Users/rubyjiang/Desktop/TI64/Speed0.6(10:8)/70_Ti_Plate_t1.0mm_p70_0.6mps_S2F-2.5mm_U18G14_Ar_S1'\n",
    "img_directory= path + '/'"
   ]
  },
  {
   "cell_type": "code",
   "execution_count": null,
   "metadata": {},
   "outputs": [],
   "source": [
    "# Create a folder\n",
    "processed0 = img_directory + 'processed0/'\n",
    "\n",
    "try:\n",
    "    os.makedirs(processed0)\n",
    "except FileExistsError:\n",
    "    pass"
   ]
  },
  {
   "cell_type": "code",
   "execution_count": null,
   "metadata": {},
   "outputs": [],
   "source": [
    "# Rename the images and save\n",
    "imgList=sorted(glob.glob(img_directory + '*.tif'))\n",
    "i = 1\n",
    "for image in imgList:   \n",
    "    img = cv.imread(image, cv.IMREAD_GRAYSCALE)\n",
    "    if i<10:\n",
    "        name = 'frame00' + str(i) + '.tif'\n",
    "    elif i<100: \n",
    "        name = 'frame0' + str(i) + '.tif'\n",
    "    else:\n",
    "        name = 'frame' + str(i) + '.tif'\n",
    "    i +=1   \n",
    "    cv.imwrite(processed0 + '/' + name, img)"
   ]
  },
  {
   "cell_type": "markdown",
   "metadata": {},
   "source": [
    "## Step 2: image processing"
   ]
  },
  {
   "cell_type": "markdown",
   "metadata": {},
   "source": [
    "### 2_1: Tao trick or JJ trick"
   ]
  },
  {
   "cell_type": "code",
   "execution_count": null,
   "metadata": {},
   "outputs": [],
   "source": [
    "# Read processed0 images to list DXR_images\n",
    "DXR_images = []\n",
    "\n",
    "for file in sorted(glob.glob(processed0 + '/*.tif'), key=natural_keys):\n",
    "    image = cv.imread(file, cv.IMREAD_UNCHANGED)\n",
    "    DXR_images.append(image)\n",
    "    \n",
    "DXR_images = np.array(DXR_images)"
   ]
  },
  {
   "cell_type": "code",
   "execution_count": null,
   "metadata": {},
   "outputs": [],
   "source": [
    "# Option 1 Tao trick\n",
    "#Tao_images = DXR_images[1:] / DXR_images[0]"
   ]
  },
  {
   "cell_type": "code",
   "execution_count": null,
   "metadata": {},
   "outputs": [],
   "source": [
    "# Option 2 JJ trick\n",
    "JJ_images = []\n",
    "\n",
    "jj_num = 30 #50 \n",
    "DXR_images_hi = DXR_images[jj_num:DXR_images.shape[0]]\n",
    "DXR_images_lo = DXR_images[0:(DXR_images.shape[0]-jj_num)]\n",
    "\n",
    "index = 0\n",
    "while index < (DXR_images.shape[0]-jj_num):\n",
    "    for img in DXR_images_hi:\n",
    "        hi = DXR_images_hi[index] / DXR_images_lo[index]# remove the black band\n",
    "        lo = DXR_images_lo[index] / DXR_images_hi[index]\n",
    "        JJ_images.append(hi)\n",
    "        index += 1\n",
    "JJ_images = np.array(JJ_images)"
   ]
  },
  {
   "cell_type": "code",
   "execution_count": null,
   "metadata": {
    "scrolled": false
   },
   "outputs": [],
   "source": [
    "# Display\n",
    "show_images = JJ_images\n",
    "\n",
    "# # min and max pixel intensities for auto scaling for plotting img\n",
    "pixel_min1 = 0   \n",
    "pixel_max1 = 100\n",
    "######################################################################################\n",
    "fig, ax = plt.subplots(dpi=100)\n",
    "im = plt.imshow(show_images[0], cmap='gray')\n",
    "#fig.colorbar(im)\n",
    "# ax.set_xlabel('X (pixels)')\n",
    "plt.xticks([])\n",
    "# ax.set_ylabel('Y (pixels)')\n",
    "plt.yticks([])\n",
    "loop_num = np.arange(len(show_images))\n",
    "@interact(frame_num = (loop_num[0], loop_num[-1]))\n",
    "def show(frame_num):\n",
    "    im.set_array(show_images[frame_num])\n",
    "    im.set_clim(autoscale(show_images[frame_num], pixel_min1), autoscale(show_images[frame_num], pixel_max1))\n",
    "    fig.canvas.draw_idle()\n",
    "    fig.canvas.draw_idle()"
   ]
  },
  {
   "cell_type": "markdown",
   "metadata": {},
   "source": [
    "### 2_2: clip, normalize, equa"
   ]
  },
  {
   "cell_type": "code",
   "execution_count": null,
   "metadata": {},
   "outputs": [],
   "source": [
    "JJ_images[250].max()"
   ]
  },
  {
   "cell_type": "code",
   "execution_count": null,
   "metadata": {},
   "outputs": [],
   "source": [
    "clip_images = []\n",
    "norm_images = []\n",
    "equa_images = []\n",
    "\n",
    "\n",
    "for jj in JJ_images:\n",
    "    #1\n",
    "    clip = np.clip(jj, np.percentile(jj, 1), np.percentile(jj, 99))\n",
    "    #2\n",
    "    norm = cv.normalize(clip, None, alpha=0, beta=255, norm_type=cv.NORM_MINMAX, dtype = cv.CV_8U)\n",
    "#   #3_1\n",
    "#   equa = rank.equalize(norm, selem=disk(30))\n",
    "    '''\n",
    "    This example enhances an image with low contrast, using a method called \n",
    "    local histogram equalization, \n",
    "    which spreads out the most frequent intensity values in an image.\n",
    "    '''\n",
    "    #3_2\n",
    "    # create a CLAHE object (Arguments are optional).\n",
    "    clahe = cv.createCLAHE(clipLimit=2.0, tileGridSize=(2,2))\n",
    "    cl1 = clahe.apply(norm)\n",
    "\n",
    "    # Append\n",
    "    clip_images.append(clip)\n",
    "    norm_images.append(norm)\n",
    "    equa_images.append(cl1)"
   ]
  },
  {
   "cell_type": "markdown",
   "metadata": {},
   "source": [
    "### 2_3: Blur and threshold "
   ]
  },
  {
   "cell_type": "code",
   "execution_count": null,
   "metadata": {},
   "outputs": [],
   "source": [
    "blur_images = []\n",
    "for jj in equa_images:\n",
    "    img = cv.medianBlur(jj,5)\n",
    "    blur_images.append(img)"
   ]
  },
  {
   "cell_type": "markdown",
   "metadata": {},
   "source": [
    "### Plot the histogram of the above three "
   ]
  },
  {
   "cell_type": "code",
   "execution_count": null,
   "metadata": {},
   "outputs": [],
   "source": [
    "#Visulize the images\n",
    "\n",
    "import matplotlib\n",
    "from skimage.util.dtype import dtype_range\n",
    "\n",
    "matplotlib.rcParams['font.size'] = 9\n",
    "\n",
    "def plot_img_and_hist(image, axes, bins=256):\n",
    "    \"\"\"Plot an image along with its histogram and cumulative histogram.\n",
    "\n",
    "    \"\"\"\n",
    "    ax_img, ax_hist = axes\n",
    "    ax_cdf = ax_hist.twinx()\n",
    "\n",
    "    # Display image\n",
    "    ax_img.imshow(image, cmap=plt.cm.gray)\n",
    "    ax_img.set_axis_off()\n",
    "\n",
    "    # Display histogram\n",
    "    ax_hist.hist(image.ravel(), bins=bins)\n",
    "    ax_hist.ticklabel_format(axis='y', style='scientific', scilimits=(0, 0))\n",
    "    ax_hist.set_xlabel('Pixel intensity')\n",
    "\n",
    "    xmin, xmax = dtype_range[image.dtype.type]\n",
    "    ax_hist.set_xlim(xmin, xmax)\n",
    "\n",
    "    # Display cumulative distribution\n",
    "    img_cdf, bins = exposure.cumulative_distribution(image, bins)\n",
    "    ax_cdf.plot(bins, img_cdf, 'r')\n",
    "    \n",
    "    return ax_img, ax_hist, ax_cdf\n",
    "\n",
    "# numb =250\n",
    "# # # clip \n",
    "# # img = clip_images[num ]\n",
    "\n",
    "# # norm\n",
    "# img_n = norm_images[numb ] \n",
    "\n",
    "# # equa\n",
    "# img_e = equa_images[numb ]\n",
    "\n",
    "# # blur\n",
    "# img_b = blur_images[numb ]\n",
    "\n",
    "# # Display results\n",
    "# fig = plt.figure(figsize=(8, 5))\n",
    "# axes = np.zeros((2, 3), dtype=np.object)\n",
    "# axes[0, 0] = plt.subplot(2, 3, 1)\n",
    "# axes[0, 1] = plt.subplot(2, 3, 2, sharex=axes[0, 0], sharey=axes[0, 0])\n",
    "# axes[0, 2] = plt.subplot(2, 3, 3, sharex=axes[0, 0], sharey=axes[0, 0])\n",
    "# axes[1, 0] = plt.subplot(2, 3, 4)\n",
    "# axes[1, 1] = plt.subplot(2, 3, 5)\n",
    "# axes[1, 2] = plt.subplot(2, 3, 6)\n",
    "\n",
    "# ax_img, ax_hist, ax_cdf = plot_img_and_hist(img_n, axes[:, 0])\n",
    "# ax_img.set_title('norm')\n",
    "# ax_hist.set_ylabel('Number of pixels')\n",
    "\n",
    "# ax_img, ax_hist, ax_cdf = plot_img_and_hist(img_e, axes[:, 1])\n",
    "# ax_img.set_title('equa')\n",
    "\n",
    "# ax_img, ax_hist, ax_cdf = plot_img_and_hist(img_b, axes[:, 2])\n",
    "# ax_img.set_title('blur')\n",
    "# ax_cdf.set_ylabel('Fraction of total intensity')\n",
    "\n",
    "\n",
    "# # prevent overlap of y-axis labels\n",
    "# fig.tight_layout()"
   ]
  },
  {
   "cell_type": "code",
   "execution_count": null,
   "metadata": {},
   "outputs": [],
   "source": [
    "jj=blur_images[250]\n",
    "np.percentile(jj, 93)"
   ]
  },
  {
   "cell_type": "code",
   "execution_count": null,
   "metadata": {},
   "outputs": [],
   "source": [
    "thre_images = []\n",
    "for jj in blur_images:\n",
    "    retval, thres  = cv.threshold(jj,\n",
    "                                   np.percentile(jj, 93), \n",
    "                                   # about 225, any pixel above this value is assigned as white, below as black\n",
    "                                   255,\n",
    "                                   cv.THRESH_BINARY)\n",
    "    thre_images.append(thres)"
   ]
  },
  {
   "cell_type": "code",
   "execution_count": null,
   "metadata": {},
   "outputs": [],
   "source": [
    "# Create a folder to save the thre_images\n",
    "folder = img_directory + 'threshold/'\n",
    "try:\n",
    "    os.makedirs(folder)\n",
    "except FileExistsError:\n",
    "    pass\n",
    "################################################\n",
    "i = jj_num + 1 \n",
    "for img in thre_images:   \n",
    "    #img = cv.imread(image, cv.IMREAD_GRAYSCALE)\n",
    "    if i<10:\n",
    "        name = 'frame00' + str(i) + '.tif'\n",
    "    elif i<100: \n",
    "        name = 'frame0' + str(i) + '.tif'\n",
    "    else:\n",
    "        name = 'frame' + str(i) + '.tif'\n",
    "    i +=1   \n",
    "    cv.imwrite(folder + '/' + name, img)"
   ]
  },
  {
   "cell_type": "markdown",
   "metadata": {},
   "source": [
    "### 2_4: Polyfill to have clean images"
   ]
  },
  {
   "cell_type": "code",
   "execution_count": null,
   "metadata": {},
   "outputs": [],
   "source": [
    "clean_images = []\n",
    "\n",
    "for img in thre_images:\n",
    "    #img = cv.imread(frame,0)\n",
    "    contours,hierarchy = cv.findContours(img, 1, 2)\n",
    "    areas = [cv.contourArea(contour) for contour in contours]\n",
    "    # if your segmented clean images has noises, this step will not work properly. \n",
    "    # you need to make sure that your segmented mask only have one chunk of white pixels, i.e., the keyhole\n",
    "    if len(areas)==0:\n",
    "        clean_images.append(clean_images)\n",
    "    else:\n",
    "        keyhole_index = np.argmax(areas)\n",
    "        # use fillpoly to make pores black\n",
    "        pores_index = [i for i in range(len(areas)) if i != keyhole_index]\n",
    "        clean_image = cv.fillPoly(img,pts= [contours[i] for i in pores_index],color = 0)\n",
    "        clean_images.append(clean_image)"
   ]
  },
  {
   "cell_type": "markdown",
   "metadata": {},
   "source": [
    "### 2_5: close the images "
   ]
  },
  {
   "cell_type": "code",
   "execution_count": null,
   "metadata": {},
   "outputs": [],
   "source": [
    "#kernel = np.ones((5,5),np.uint8)\n",
    "kernel = np.ones((10,10),np.uint8)\n",
    "close_images = []\n",
    "for img in clean_images:\n",
    "    closing = cv.morphologyEx(img, cv.MORPH_CLOSE, kernel)\n",
    "    close_images.append(closing)"
   ]
  },
  {
   "cell_type": "code",
   "execution_count": null,
   "metadata": {},
   "outputs": [],
   "source": [
    "# Create a folder to save the close_images\n",
    "folder = img_directory + 'close/'\n",
    "try:\n",
    "    os.makedirs(folder)\n",
    "except FileExistsError:\n",
    "    pass\n",
    "################################################\n",
    "i = jj_num +1 # num is used in the jj trick\n",
    "for img in close_images:   \n",
    "    #img = cv.imread(image, cv.IMREAD_GRAYSCALE)\n",
    "    if i<10:\n",
    "        name = 'frame00' + str(i) + '.tif'\n",
    "    elif i<100: \n",
    "        name = 'frame0' + str(i) + '.tif'\n",
    "    else:\n",
    "        name = 'frame' + str(i) + '.tif'\n",
    "    i +=1   \n",
    "    cv.imwrite(folder + '/' + name, img)"
   ]
  },
  {
   "cell_type": "markdown",
   "metadata": {},
   "source": [
    "# Check the images!"
   ]
  },
  {
   "cell_type": "code",
   "execution_count": null,
   "metadata": {
    "scrolled": false
   },
   "outputs": [],
   "source": [
    "# Display\n",
    "show_images =  thre_images # thre_images\n",
    "\n",
    "# # min and max pixel intensities for auto scaling for plotting img\n",
    "pixel_min1 = 0   \n",
    "pixel_max1 = 255\n",
    "######################################################################################\n",
    "fig, ax = plt.subplots(dpi=100)\n",
    "im = plt.imshow(show_images[0], cmap='gray')\n",
    "#fig.colorbar(im)\n",
    "# ax.set_xlabel('X (pixels)')\n",
    "plt.xticks([])\n",
    "# ax.set_ylabel('Y (pixels)')\n",
    "plt.yticks([])\n",
    "loop_num = np.arange(len(show_images))\n",
    "@interact(frame_num = (loop_num[0], loop_num[-1]))\n",
    "def show(frame_num):\n",
    "    im.set_array(show_images[frame_num])\n",
    "    im.set_clim(autoscale(show_images[frame_num], pixel_min1), autoscale(show_images[frame_num], pixel_max1))\n",
    "    fig.canvas.draw_idle()"
   ]
  },
  {
   "cell_type": "markdown",
   "metadata": {},
   "source": [
    "### If you only want to see 1 image"
   ]
  },
  {
   "cell_type": "code",
   "execution_count": null,
   "metadata": {},
   "outputs": [],
   "source": [
    "# from scipy import ndimage, misc\n",
    "# import matplotlib.pyplot as plt\n",
    "# fig = plt.figure()\n",
    "# plt.gray()  # show the filtered result in grayscale\n",
    "# ax1 = fig.add_subplot(121)  # left side\n",
    "# ax2 = fig.add_subplot(122)  # right side\n",
    "# ascent = thre_images[250]\n",
    "# result = ndimage.median_filter(ascent, size=5)\n",
    "# ax1.imshow(ascent)\n",
    "# ax2.imshow(result)\n",
    "# plt.show()"
   ]
  },
  {
   "cell_type": "markdown",
   "metadata": {},
   "source": [
    "# Plot jj, clip, norm, equa, blur, thre, clean, close (8)"
   ]
  },
  {
   "cell_type": "code",
   "execution_count": null,
   "metadata": {},
   "outputs": [],
   "source": [
    "numb = 100#250\n",
    "\n",
    "img_jj = JJ_images[numb]\n",
    "img_clip = clip_images[numb]\n",
    "img_norm = norm_images[numb] \n",
    "img_equa = equa_images[numb]\n",
    "\n",
    "img_blur = blur_images[numb]\n",
    "img_thre = thre_images[numb]\n",
    "img_clea = clean_images[numb]\n",
    "img_clos = close_images[numb]\n",
    "\n",
    "# Display results\n",
    "fig = plt.figure(figsize=(21, 5))\n",
    "axes = np.zeros((2, 8), dtype=np.object)\n",
    "axes[0, 0] = plt.subplot(2, 8, 1)\n",
    "axes[0, 1] = plt.subplot(2, 8, 2, sharex=axes[0, 0], sharey=axes[0, 0])\n",
    "axes[0, 2] = plt.subplot(2, 8, 3, sharex=axes[0, 0], sharey=axes[0, 0])\n",
    "axes[0, 3] = plt.subplot(2, 8, 4, sharex=axes[0, 0], sharey=axes[0, 0])\n",
    "axes[0, 4] = plt.subplot(2, 8, 5, sharex=axes[0, 0], sharey=axes[0, 0])\n",
    "axes[0, 5] = plt.subplot(2, 8, 6, sharex=axes[0, 0], sharey=axes[0, 0])\n",
    "axes[0, 6] = plt.subplot(2, 8, 7, sharex=axes[0, 0], sharey=axes[0, 0])\n",
    "axes[0, 7] = plt.subplot(2, 8, 8, sharex=axes[0, 0], sharey=axes[0, 0])\n",
    "\n",
    "axes[1, 0] = plt.subplot(2, 8, 9)\n",
    "axes[1, 1] = plt.subplot(2, 8, 10)\n",
    "axes[1, 2] = plt.subplot(2, 8, 11)\n",
    "axes[1, 3] = plt.subplot(2, 8, 12)\n",
    "axes[1, 4] = plt.subplot(2, 8, 13)\n",
    "axes[1, 5] = plt.subplot(2, 8, 14)\n",
    "axes[1, 6] = plt.subplot(2, 8, 15)\n",
    "axes[1, 7] = plt.subplot(2, 8, 16)\n",
    "\n",
    "\n",
    "\n",
    "ax_img, ax_hist, ax_cdf = plot_img_and_hist(img_jj, axes[:, 0])\n",
    "ax_img.set_title('JJ')\n",
    "ax_hist.set_ylabel('Number of pixels')\n",
    "\n",
    "ax_img, ax_hist, ax_cdf = plot_img_and_hist(img_clip, axes[:, 1])\n",
    "ax_img.set_title('clip')\n",
    "\n",
    "\n",
    "ax_img, ax_hist, ax_cdf = plot_img_and_hist(img_norm, axes[:, 2])\n",
    "ax_img.set_title('norm')\n",
    "\n",
    "\n",
    "ax_img, ax_hist, ax_cdf = plot_img_and_hist(img_equa, axes[:, 3])\n",
    "ax_img.set_title('equa')\n",
    "\n",
    "ax_img, ax_hist, ax_cdf = plot_img_and_hist(img_blur, axes[:, 4])\n",
    "ax_img.set_title('blur')\n",
    "\n",
    "\n",
    "ax_img, ax_hist, ax_cdf = plot_img_and_hist(img_thre, axes[:, 5])\n",
    "ax_img.set_title('threshold')\n",
    "\n",
    "\n",
    "ax_img, ax_hist, ax_cdf = plot_img_and_hist(img_clea, axes[:, 6])\n",
    "ax_img.set_title('clean')\n",
    "\n",
    "\n",
    "ax_img, ax_hist, ax_cdf = plot_img_and_hist(img_clos, axes[:, 7])\n",
    "ax_img.set_title('close')\n",
    "ax_cdf.set_ylabel('Fraction of total intensity')\n",
    "\n",
    "\n",
    "# prevent overlap of y-axis labels\n",
    "fig.tight_layout()"
   ]
  },
  {
   "cell_type": "code",
   "execution_count": null,
   "metadata": {},
   "outputs": [],
   "source": [
    "#fig.savefig(img_directory+'8_analysis.jpg',dpi=300)"
   ]
  },
  {
   "cell_type": "code",
   "execution_count": null,
   "metadata": {},
   "outputs": [],
   "source": []
  }
 ],
 "metadata": {
  "kernelspec": {
   "display_name": "Python 3 (ipykernel)",
   "language": "python",
   "name": "python3"
  },
  "language_info": {
   "codemirror_mode": {
    "name": "ipython",
    "version": 3
   },
   "file_extension": ".py",
   "mimetype": "text/x-python",
   "name": "python",
   "nbconvert_exporter": "python",
   "pygments_lexer": "ipython3",
   "version": "3.8.16"
  }
 },
 "nbformat": 4,
 "nbformat_minor": 4
}

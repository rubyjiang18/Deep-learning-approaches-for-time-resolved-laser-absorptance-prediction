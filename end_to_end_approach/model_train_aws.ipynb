{
 "cells": [
  {
   "attachments": {},
   "cell_type": "markdown",
   "metadata": {
    "id": "o86gn1nG6DQ3"
   },
   "source": [
    "# Notebook for model train/validation/test"
   ]
  },
  {
   "cell_type": "code",
   "execution_count": null,
   "metadata": {
    "colab": {
     "base_uri": "https://localhost:8080/"
    },
    "id": "6WblwuyYcJzm",
    "outputId": "ce7abaf9-2f29-4c6d-92c0-1e663e59ee43"
   },
   "outputs": [],
   "source": [
    "!pip install torchvision --upgrade\n",
    "!pip install grad-cam\n",
    "!pip install timm\n",
    "!pip install imagecodecs"
   ]
  },
  {
   "cell_type": "code",
   "execution_count": null,
   "metadata": {
    "id": "lME-yOdUPlEO"
   },
   "outputs": [],
   "source": [
    "import torch\n",
    "import torch.nn as nn\n",
    "import torch.nn.functional as F\n",
    "import torch.optim as optim\n",
    "\n",
    "import torchvision\n",
    "from torchvision.datasets import VisionDataset\n",
    "from torchvision import transforms\n",
    "from torch.utils.data import Dataset, DataLoader, Subset\n",
    "\n",
    "import os \n",
    "from os import path\n",
    "\n",
    "import numpy as np\n",
    "import pandas as pd\n",
    "from scipy.io import loadmat\n",
    "\n",
    "from tqdm import tqdm\n",
    "from PIL import Image\n",
    "\n",
    "# read tiff\n",
    "import zipfile\n",
    "import random\n",
    "import csv\n",
    "\n",
    "import matplotlib.pyplot as plt\n",
    "\n",
    "from Dataset import train_preprocess, test_preprocess, Keyhole, Keyhole_Test\n",
    "from utils import initiate_model, cosine_scheduler, train, validation, save_model, save_loss_record"
   ]
  },
  {
   "cell_type": "code",
   "execution_count": null,
   "metadata": {
    "id": "HevJEzXqc-YF"
   },
   "outputs": [],
   "source": [
    "!nvidia-smi"
   ]
  },
  {
   "cell_type": "code",
   "execution_count": null,
   "metadata": {
    "colab": {
     "base_uri": "https://localhost:8080/"
    },
    "id": "8RTL_ifQPfi4",
    "outputId": "8886c717-977f-4fc4-dd41-fc23cda64132"
   },
   "outputs": [],
   "source": [
    "train_data_path = \"/home/ec2-user/absorption/training_dataset\"\n",
    "test_data_path = \"/home/ec2-user/absorption/testing_dataset\"\n",
    "\n",
    "cuda = torch.cuda.is_available()\n",
    "device = torch.device(\"cuda\" if cuda else \"cpu\")\n",
    "num_workers = 2 if cuda else 0\n",
    "print(\"Cuda = \" + str(cuda)+\" with num_workers = \"+str(num_workers))"
   ]
  },
  {
   "cell_type": "code",
   "execution_count": null,
   "metadata": {
    "colab": {
     "base_uri": "https://localhost:8080/"
    },
    "id": "XyMdtFLAUNx1",
    "outputId": "d6d5436c-53f0-4c89-c2c2-ab6bc037c2df"
   },
   "outputs": [],
   "source": [
    "# need to write config file to make this part elegent\n",
    "batch_size = 32\n",
    "split_num=\"5\"\n",
    "\n",
    "train_dataset = Keyhole(train_data_path, transform= train_preprocess, train=True, split=split_num)\n",
    "val_dataset = Keyhole(train_data_path, transform= test_preprocess, train=False, split=split_num)\n",
    "test_dataset = Keyhole_Test(test_data_path, transform= test_preprocess)\n",
    "\n",
    "train_loader = DataLoader(train_dataset, batch_size=batch_size, shuffle=True, num_workers=num_workers)\n",
    "val_loader = DataLoader(val_dataset, batch_size=batch_size, shuffle=False, num_workers=num_workers)\n",
    "test_loader = DataLoader(test_dataset, batch_size=batch_size, shuffle=False, num_workers=1)"
   ]
  },
  {
   "attachments": {},
   "cell_type": "markdown",
   "metadata": {
    "id": "t-YnS4xUz8Uv"
   },
   "source": [
    "## Part 1: Model training"
   ]
  },
  {
   "cell_type": "code",
   "execution_count": null,
   "metadata": {
    "colab": {
     "base_uri": "https://localhost:8080/"
    },
    "id": "gm9TIn-TzqWg",
    "outputId": "271725fd-7ab1-4ca2-d0bb-317f5682b3fe"
   },
   "outputs": [],
   "source": [
    "#del model\n",
    "pretrain_flag = False\n",
    "torch.cuda.empty_cache()\n",
    "model = initiate_model('convnext', pretrained=pretrain_flag)\n",
    "model.cuda()"
   ]
  },
  {
   "cell_type": "code",
   "execution_count": null,
   "metadata": {
    "id": "YkEnXPr6xB8Y"
   },
   "outputs": [],
   "source": [
    "from torchsummary import summary\n",
    "summary(model, (3, 224, 224))"
   ]
  },
  {
   "cell_type": "code",
   "execution_count": null,
   "metadata": {
    "colab": {
     "base_uri": "https://localhost:8080/"
    },
    "id": "QXz1ANLOMIhs",
    "outputId": "34c7cdaf-aad2-4501-bd2c-ccf7ba4711d4"
   },
   "outputs": [],
   "source": [
    "epochs=300\n",
    "criterion = torch.nn.SmoothL1Loss()\n",
    "if type(model) == torchvision.models.resnet.ResNet:\n",
    "    lr = 4e-3\n",
    "    lr_min = 1e-6\n",
    "if type(model) == torchvision.models.convnext.ConvNeXt:\n",
    "    lr = 1e-4\n",
    "    lr_min = 1e-7\n",
    "\n",
    "num_training_steps_per_epoch = len(train_dataset) // batch_size\n",
    "lr_schedule_values = cosine_scheduler(lr, lr_min, 300, num_training_steps_per_epoch, warmup_epochs=20)\n",
    "\n",
    "optimizer = optim.AdamW(model.parameters(), lr=lr, betas=(0.9, 0.999), weight_decay=0.05)\n",
    "scheduler = None\n",
    "epochs = 300\n",
    "scaler = torch.cuda.amp.GradScaler()"
   ]
  },
  {
   "cell_type": "code",
   "execution_count": null,
   "metadata": {
    "colab": {
     "base_uri": "https://localhost:8080/",
     "height": 283
    },
    "id": "OjcYOCnf4plZ",
    "outputId": "f4f5e2de-f9eb-48c0-8dff-758081fc805f"
   },
   "outputs": [],
   "source": [
    "plt.plot(lr_schedule_values)"
   ]
  },
  {
   "cell_type": "code",
   "execution_count": null,
   "metadata": {
    "colab": {
     "base_uri": "https://localhost:8080/",
     "height": 1000
    },
    "id": "9xLlY00_N3us",
    "outputId": "dec75571-421d-4f40-b630-ae208a230206",
    "scrolled": false
   },
   "outputs": [],
   "source": [
    "# train and val, no test yet\n",
    "\n",
    "train_loss_record = []\n",
    "val_loss_record = []\n",
    "for epoch in range(epochs):\n",
    "  train_loss = train(model, \n",
    "                     device, \n",
    "                     train_loader, \n",
    "                     optimizer, \n",
    "                     criterion, \n",
    "                     scaler, \n",
    "                     num_training_steps_per_epoch,\n",
    "                     scheduler=None,\n",
    "                     start_steps=epoch*num_training_steps_per_epoch, \n",
    "                     lr_schedule_values=lr_schedule_values)\n",
    "  print(\"Epoch {}/{}: Train Loss {:.04f}, lr {:.08f}\".format(epoch + 1, epochs, train_loss, optimizer.param_groups[0]['lr']))\n",
    "  val_loss = validation(model, device, val_loader, optimizer, criterion)\n",
    "  print(\"val loss: {:.4f}\".format(val_loss))\n",
    "  train_loss_record.append(train_loss)\n",
    "  val_loss_record.append(val_loss)\n",
    "  if epoch == 299:\n",
    "    ####### Change the name!!! #######\n",
    "    if pretrain_flag:\n",
    "        name = \"Convnext_pretrain_split\" # \"Resnet_pretrain_split\"\n",
    "    else:\n",
    "        name = \"Convnext_nopretrain_split\"\n",
    "    save_model(model, epoch, name+split_num, optimizer, scheduler, batch_size)\n",
    "    save_loss_record(train_loss_record, val_loss_record, name+split_num+\"_loss_log.csv\")"
   ]
  },
  {
   "cell_type": "code",
   "execution_count": null,
   "metadata": {
    "colab": {
     "base_uri": "https://localhost:8080/",
     "height": 610
    },
    "id": "QjnZnxe5Bqq5",
    "outputId": "e71122d8-1dc6-46ab-e6b3-2ade2f07bd72"
   },
   "outputs": [],
   "source": [
    "plt.figure(figsize=(10,10))\n",
    "plt.plot(train_loss_record)\n",
    "plt.plot(val_loss_record)"
   ]
  },
  {
   "cell_type": "code",
   "execution_count": null,
   "metadata": {
    "colab": {
     "base_uri": "https://localhost:8080/"
    },
    "id": "Pow5X7o2HkYO",
    "outputId": "75cdb20d-e277-4d99-f339-b89501c22c57"
   },
   "outputs": [],
   "source": [
    "# To load the model\n",
    "checkpoint = torch.load(\"ResNet50_nopretrain_epoch_300\")\n",
    "model.load_state_dict(checkpoint['model_state_dict'])"
   ]
  }
 ],
 "metadata": {
  "accelerator": "GPU",
  "colab": {
   "provenance": []
  },
  "kernelspec": {
   "display_name": "Python 3 (ipykernel)",
   "language": "python",
   "name": "python3"
  },
  "language_info": {
   "codemirror_mode": {
    "name": "ipython",
    "version": 3
   },
   "file_extension": ".py",
   "mimetype": "text/x-python",
   "name": "python",
   "nbconvert_exporter": "python",
   "pygments_lexer": "ipython3",
   "version": "3.9.15"
  }
 },
 "nbformat": 4,
 "nbformat_minor": 1
}

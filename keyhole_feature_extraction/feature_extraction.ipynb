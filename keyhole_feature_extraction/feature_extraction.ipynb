{
 "cells": [
  {
   "cell_type": "code",
   "execution_count": null,
   "metadata": {},
   "outputs": [],
   "source": [
    "import cv2 as cv\n",
    "import numpy as np\n",
    "from matplotlib import pyplot as plt\n",
    "import pandas as pd\n",
    "import os\n",
    "from os.path import isfile, join\n",
    "from PIL import Image\n",
    "import os.path, sys\n",
    "import glob\n"
   ]
  },
  {
   "cell_type": "markdown",
   "metadata": {},
   "source": [
    "## 1. specify folder"
   ]
  },
  {
   "cell_type": "code",
   "execution_count": null,
   "metadata": {
    "scrolled": true
   },
   "outputs": [],
   "source": [
    "path = \"/Users/rubyjiang/Desktop/Keyhole-image-segmentation/application/model_output_masks/ML/ML_train_masks\"\n",
    "imgList=sorted(glob.glob(path+ '/*.tif'))\n",
    "print(len(imgList))"
   ]
  },
  {
   "cell_type": "markdown",
   "metadata": {},
   "source": [
    "## 2. specifiy features"
   ]
  },
  {
   "cell_type": "code",
   "execution_count": null,
   "metadata": {},
   "outputs": [],
   "source": [
    "def extractFeatures(img):\n",
    "    \n",
    "    num_white_pixel = np.sum(img == 1) \n",
    "    num_white_pixel_row = np.sum(img == 1, 1) \n",
    "    # get the index of non zero rows\n",
    "    nonzero_index = [i for i, e in enumerate(num_white_pixel_row) if e != 0]\n",
    "    depth = len(nonzero_index)\n",
    "    # avg width\n",
    "    avg_width = 0\n",
    "    if depth != 0:\n",
    "        avg_width = np.sum(num_white_pixel_row) / depth\n",
    "    width_top, width_quarter, width_half, width_3quarter = 0, 0, 0, 0\n",
    "    # width\n",
    "    if depth == 1:\n",
    "        width_top = num_white_pixel_row[nonzero_index[0]] \n",
    "    if depth == 2:\n",
    "        width_top = num_white_pixel_row[nonzero_index[0]] \n",
    "        width_quarter = num_white_pixel_row[nonzero_index[1]]\n",
    "    if depth == 3:\n",
    "        width_top = num_white_pixel_row[nonzero_index[0]] \n",
    "        width_quarter = num_white_pixel_row[nonzero_index[1]]\n",
    "        width_half = num_white_pixel_row[nonzero_index[2]]\n",
    "    if depth == 4:\n",
    "        width_top = num_white_pixel_row[nonzero_index[0]] \n",
    "        width_quarter = num_white_pixel_row[nonzero_index[1]]\n",
    "        width_half = num_white_pixel_row[nonzero_index[2]]\n",
    "        width_3quarter = num_white_pixel_row[nonzero_index[3]]\n",
    "    if depth >= 5:\n",
    "        # index\n",
    "        top_index = nonzero_index[0]\n",
    "        quarter_index = top_index + round(len(nonzero_index) * 0.25)\n",
    "        half_index = top_index + len(nonzero_index)//2 \n",
    "        threequarter_index = top_index + round(len(nonzero_index) * 0.75)\n",
    "        #\n",
    "        width_top = num_white_pixel_row[top_index]\n",
    "        width_quarter = num_white_pixel_row[quarter_index]\n",
    "        width_half = num_white_pixel_row[half_index]\n",
    "        width_3quarter = num_white_pixel_row[threequarter_index]\n",
    "    # widest width\n",
    "    wwidth = 0\n",
    "    if depth !=0:\n",
    "        min_col = len(img)\n",
    "        max_col = 0\n",
    "        for row in range(len(img)):\n",
    "            for col in range(len(img[0])):\n",
    "                if img[row][col] != 0 :\n",
    "                    min_col = min(min_col, col)\n",
    "                    max_col = max(max_col, col)\n",
    "        wwidth = max(wwidth, max_col - min_col)   \n",
    "    # perimeter\n",
    "    perimeter = 0\n",
    "    contours,hierarchy = cv.findContours(img, 1, 2)\n",
    "    if contours:\n",
    "        cnt = contours[0]\n",
    "        perimeter = cv.arcLength(cnt,True)\n",
    "    # front wall angle \n",
    "    tan_theta = None\n",
    "    if depth >= 5:\n",
    "        up_index =  nonzero_index[round(len(nonzero_index)/10)]\n",
    "        down_index =  nonzero_index[round(len(nonzero_index)*9/10)]\n",
    "        right_index = np.nonzero(img[up_index])[-1][-1]\n",
    "        left_index = np.nonzero(img[down_index])[-1][-1]\n",
    "        if abs(right_index-left_index) == 0:\n",
    "            tan_theta = 180 # just to make sure theta is 90\n",
    "        else:\n",
    "            tan_theta = abs(up_index-down_index)/abs(right_index-left_index)\n",
    "\n",
    "        \n",
    "    return [depth,\n",
    "            width_top,\n",
    "            width_quarter,\n",
    "            width_half,\n",
    "            width_3quarter,\n",
    "            avg_width,\n",
    "            wwidth,\n",
    "            num_white_pixel,\n",
    "            perimeter,\n",
    "            tan_theta,\n",
    "           ]"
   ]
  },
  {
   "cell_type": "code",
   "execution_count": null,
   "metadata": {},
   "outputs": [],
   "source": [
    "data= {\n",
    "    'img_name':[],\n",
    "    'depth':[],\n",
    "    'width_top' :[],\n",
    "    'width_quarter':[],\n",
    "    'width_half':[],\n",
    "    'width_3quarter':[],\n",
    "    'avg_width':[],\n",
    "    'widest_width':[],\n",
    "    'num_white_pixel':[],\n",
    "    'perimeter':[],\n",
    "    'tan_theta': []\n",
    "          }\n",
    "df = pd.DataFrame(data)\n",
    "print(len(df))"
   ]
  },
  {
   "cell_type": "code",
   "execution_count": null,
   "metadata": {
    "scrolled": true
   },
   "outputs": [],
   "source": [
    "for i in range(len(imgList)):\n",
    "    frame = imgList[i]\n",
    "    name = frame.split('/')[-1]\n",
    "    print(name)\n",
    "    # img\n",
    "    img = cv.imread(frame, cv.IMREAD_UNCHANGED).astype(np.uint8)\n",
    "    #cv.imshow('Original Image', img)\n",
    "    # rotate colockwise 7 degree\n",
    "    height, width = img.shape[:2]\n",
    "    # Define rotation matrix using cv2.getRotationMatrix2D\n",
    "    rotation_matrix = cv.getRotationMatrix2D((width/2, height/2), -7, 1)\n",
    "    # Apply rotation using cv2.warpAffine\n",
    "    img = cv.warpAffine(img, rotation_matrix, (width, height))\n",
    "    # Flip image horizontally using cv2.flip\n",
    "    img = cv.flip(img, 1)\n",
    "    \n",
    "    # contour\n",
    "    contours,hierarchy = cv.findContours(img, 1, 2)\n",
    "    areas = [cv.contourArea(contour) for contour in contours]\n",
    "    if len(areas) != 0:\n",
    "        keyhole_index = np.argmax(areas)\n",
    "#         if i != 836-1: # special for frame 836 in train_masks\n",
    "#             keyhole_index = np.argmax(areas)\n",
    "#         else:\n",
    "#             keyhole_index = np.argmin(areas)\n",
    "        pores_index = [i for i in range(len(areas)) if i != keyhole_index]\n",
    "        img = cv.fillPoly(img,pts= [contours[i] for i in pores_index],color = 0)\n",
    "    feature_list = extractFeatures(img)\n",
    "    #print(feature_list)\n",
    "    df.loc[i] = [name] + feature_list"
   ]
  },
  {
   "cell_type": "code",
   "execution_count": null,
   "metadata": {},
   "outputs": [],
   "source": [
    "len(df)"
   ]
  },
  {
   "cell_type": "code",
   "execution_count": null,
   "metadata": {},
   "outputs": [],
   "source": [
    "df[]"
   ]
  },
  {
   "cell_type": "code",
   "execution_count": null,
   "metadata": {},
   "outputs": [],
   "source": [
    "plt.plot(df['depth'][430:460])"
   ]
  },
  {
   "cell_type": "code",
   "execution_count": null,
   "metadata": {},
   "outputs": [],
   "source": [
    "df.describe()"
   ]
  },
  {
   "cell_type": "code",
   "execution_count": null,
   "metadata": {},
   "outputs": [],
   "source": [
    "save_path = '/Users/rubyjiang/Desktop/'\n",
    "df.to_csv(save_path + 'ML_train_features.csv', index = False, header=True) #,float_format='%.8f')"
   ]
  },
  {
   "cell_type": "code",
   "execution_count": null,
   "metadata": {},
   "outputs": [],
   "source": []
  },
  {
   "cell_type": "code",
   "execution_count": null,
   "metadata": {},
   "outputs": [],
   "source": []
  },
  {
   "cell_type": "code",
   "execution_count": null,
   "metadata": {},
   "outputs": [],
   "source": []
  },
  {
   "cell_type": "code",
   "execution_count": null,
   "metadata": {},
   "outputs": [],
   "source": []
  }
 ],
 "metadata": {
  "kernelspec": {
   "display_name": "Python 3 (ipykernel)",
   "language": "python",
   "name": "python3"
  },
  "language_info": {
   "codemirror_mode": {
    "name": "ipython",
    "version": 3
   },
   "file_extension": ".py",
   "mimetype": "text/x-python",
   "name": "python",
   "nbconvert_exporter": "python",
   "pygments_lexer": "ipython3",
   "version": "3.8.16"
  }
 },
 "nbformat": 4,
 "nbformat_minor": 4
}
